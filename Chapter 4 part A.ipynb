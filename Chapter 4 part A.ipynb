{
 "cells": [
  {
   "cell_type": "code",
   "execution_count": 2,
   "id": "443aeaa4",
   "metadata": {},
   "outputs": [
    {
     "name": "stdout",
     "output_type": "stream",
     "text": [
      "1    A\n",
      "2    B\n",
      "dtype: object\n",
      "3    C\n",
      "4    D\n",
      "dtype: object\n",
      "1    A\n",
      "2    B\n",
      "3    C\n",
      "4    D\n",
      "dtype: object\n"
     ]
    }
   ],
   "source": [
    "import pandas as pd \n",
    "\n",
    "ser1 = pd.Series(['A', 'B'], [1,2])\n",
    "ser2 = pd.Series(['C', 'D'], [3,4])\n",
    "print(ser1)\n",
    "print(ser2)\n",
    "\n",
    "concat1 = pd.concat([ser1, ser2])\n",
    "print(concat1)\n"
   ]
  },
  {
   "cell_type": "code",
   "execution_count": 3,
   "id": "e5901283",
   "metadata": {},
   "outputs": [
    {
     "name": "stdout",
     "output_type": "stream",
     "text": [
      "    A   B\n",
      "0  A0  B0\n",
      "1  A1  B1\n",
      "    A   B\n",
      "0  A2  B2\n",
      "1  A3  B3\n",
      "    A   B\n",
      "0  A0  B0\n",
      "1  A1  B1\n",
      "0  A2  B2\n",
      "1  A3  B3\n"
     ]
    }
   ],
   "source": [
    "# Adding two DataFrames: \n",
    "\n",
    "df = pd.DataFrame([['A0','B0'],['A1', 'B1']], columns=['A', 'B'])   \n",
    "print(df)\n",
    "dff = pd.DataFrame([['A2','B2'],['A3','B3']], columns=['A', 'B']) \n",
    "print(dff)\n",
    "\n",
    "concat2 = pd.concat([df, dff])\n",
    "print(concat2)\n"
   ]
  },
  {
   "cell_type": "code",
   "execution_count": 4,
   "id": "b7648d14",
   "metadata": {},
   "outputs": [
    {
     "name": "stdout",
     "output_type": "stream",
     "text": [
      "    A   B   A   B\n",
      "0  A0  B0  A2  B2\n",
      "1  A1  B1  A3  B3\n"
     ]
    }
   ],
   "source": [
    "## If we want the column-wise contcatenation we shoul type \"axis=1 or axis='columns'\n",
    "\n",
    "print(pd.concat([df, dff], axis='columns'))\n",
    "\n"
   ]
  },
  {
   "cell_type": "code",
   "execution_count": 7,
   "id": "d0cb059a",
   "metadata": {},
   "outputs": [],
   "source": [
    "### Exercise Time: Import data ####"
   ]
  },
  {
   "cell_type": "code",
   "execution_count": 9,
   "id": "c605c011",
   "metadata": {},
   "outputs": [
    {
     "name": "stdout",
     "output_type": "stream",
     "text": [
      "     name  birth_date\n",
      "0     Ben    7/3/1987\n",
      "1  Martin   5/24/1984\n",
      "2    Andy   6/21/1973\n",
      "3    Paul   7/16/1980\n",
      "4  Graham  10/10/1969\n",
      "     name  birth_date\n",
      "0  Carina   11/5/1989\n",
      "1  Karina   10/8/1991\n",
      "2    Doug   1/23/1994\n",
      "3    Mark   5/20/1993\n",
      "4     Zoe  11/12/1990\n"
     ]
    }
   ],
   "source": [
    "data_persons0 = pd.read_csv('/Users/abdulhabirkarahanli/Desktop/Data/persons0.csv')\n",
    "print(data_persons0)\n",
    "data_persons1 = pd.read_csv('/Users/abdulhabirkarahanli/Desktop/Data/persons1.csv')\n",
    "print(data_persons1)"
   ]
  },
  {
   "cell_type": "code",
   "execution_count": 10,
   "id": "ebb7a255",
   "metadata": {
    "scrolled": true
   },
   "outputs": [
    {
     "name": "stdout",
     "output_type": "stream",
     "text": [
      "     name  birth_date\n",
      "0     Ben    7/3/1987\n",
      "1  Martin   5/24/1984\n",
      "2    Andy   6/21/1973\n",
      "3    Paul   7/16/1980\n",
      "4  Graham  10/10/1969\n",
      "5  Carina   11/5/1989\n",
      "6  Karina   10/8/1991\n",
      "7    Doug   1/23/1994\n",
      "8    Mark   5/20/1993\n",
      "9     Zoe  11/12/1990\n"
     ]
    }
   ],
   "source": [
    "# Time to combine two data sets:   \n",
    "persons = pd.concat([data_persons0, data_persons1], ignore_index=True)\n",
    "print(persons)\n",
    "#Done "
   ]
  },
  {
   "cell_type": "markdown",
   "id": "e797485c",
   "metadata": {},
   "source": [
    "### This merge() fuction is much more powerful than the concatenation (concat()) funtion. \n",
    "    There are different types of implimantation \n",
    "        1) one-to-one join\n",
    "        2) many-to-one join\n",
    "        3) many-to-many join"
   ]
  },
  {
   "cell_type": "markdown",
   "id": "2f00d0a3",
   "metadata": {},
   "source": [
    "#### One-To-One Join with an example: \n",
    "     pd.merge() recognizes when DataFrames have ashared column and automatically joins this column as a key "
   ]
  },
  {
   "cell_type": "code",
   "execution_count": 12,
   "id": "680da3a4",
   "metadata": {},
   "outputs": [
    {
     "name": "stdout",
     "output_type": "stream",
     "text": [
      "  employee        group\n",
      "0      Bob   Accounting\n",
      "1     Jake  Engineering\n",
      "2     Lisa  Engineering\n",
      "3      Sue           HR\n",
      "  employee  hire_date\n",
      "0     Lisa       2004\n",
      "1      Bob       2008\n",
      "2     Jake       2012\n",
      "3      Sue       2014\n",
      "  employee        group  hire_date\n",
      "0      Bob   Accounting       2008\n",
      "1     Jake  Engineering       2012\n",
      "2     Lisa  Engineering       2004\n",
      "3      Sue           HR       2014\n"
     ]
    }
   ],
   "source": [
    "df1 = pd.DataFrame({'employee': ['Bob', 'Jake', 'Lisa', 'Sue'],\n",
    "                    'group': ['Accounting', 'Engineering', 'Engineering', 'HR']})\n",
    "print(df1)\n",
    "df2 = pd.DataFrame({'employee': ['Lisa', 'Bob', 'Jake', 'Sue'],\n",
    "                    'hire_date': [2004, 2008, 2012, 2014]})\n",
    "print(df2)\n",
    "# It is time to merge \n",
    "df3 = pd.merge(df1, df2) ; print(df3)\n"
   ]
  },
  {
   "cell_type": "markdown",
   "id": "a898f205",
   "metadata": {},
   "source": [
    "#### Many-to-one join : adding another columns which will match with group"
   ]
  },
  {
   "cell_type": "code",
   "execution_count": 13,
   "id": "a4cb9f59",
   "metadata": {},
   "outputs": [
    {
     "name": "stdout",
     "output_type": "stream",
     "text": [
      "         group supervisor\n",
      "0   Accounting      Carly\n",
      "1  Engineering      Guido\n",
      "2           HR      Steve\n",
      "  employee        group  hire_date supervisor\n",
      "0      Bob   Accounting       2008      Carly\n",
      "1     Jake  Engineering       2012      Guido\n",
      "2     Lisa  Engineering       2004      Guido\n",
      "3      Sue           HR       2014      Steve\n"
     ]
    }
   ],
   "source": [
    "df4 = pd.DataFrame({'group': ['Accounting', 'Engineering', 'HR'],\n",
    "                    'supervisor': ['Carly', 'Guido', 'Steve']})\n",
    "print(df4)\n",
    "#Merge all: \n",
    "print(pd.merge(df3, df4))\n"
   ]
  },
  {
   "cell_type": "markdown",
   "id": "e10088b5",
   "metadata": {},
   "source": [
    "#### Many-to-many join: key column in both the left and the right array contains duplicates"
   ]
  },
  {
   "cell_type": "code",
   "execution_count": 14,
   "id": "96f485ab",
   "metadata": {},
   "outputs": [
    {
     "name": "stdout",
     "output_type": "stream",
     "text": [
      "         group        skills\n",
      "0   Accounting          math\n",
      "1   Accounting  spreadsheets\n",
      "2  Engineering        coding\n",
      "3  Engineering         linux\n",
      "4           HR  spreadsheets\n",
      "5           HR  organization\n",
      "  employee        group        skills\n",
      "0      Bob   Accounting          math\n",
      "1      Bob   Accounting  spreadsheets\n",
      "2     Jake  Engineering        coding\n",
      "3     Jake  Engineering         linux\n",
      "4     Lisa  Engineering        coding\n",
      "5     Lisa  Engineering         linux\n",
      "6      Sue           HR  spreadsheets\n",
      "7      Sue           HR  organization\n"
     ]
    }
   ],
   "source": [
    "df5 = pd.DataFrame({'group': ['Accounting', 'Accounting', 'Engineering', 'Engineering', 'HR', 'HR'],\n",
    "                    'skills': ['math', 'spreadsheets', 'coding', 'linux', 'spreadsheets', 'organization']})\n",
    "print(df5)\n",
    "print(pd.merge(df1, df5))  #done\n"
   ]
  },
  {
   "cell_type": "markdown",
   "id": "16f93cb4",
   "metadata": {},
   "source": [
    "### Exercise: "
   ]
  },
  {
   "cell_type": "code",
   "execution_count": 15,
   "id": "7cef960c",
   "metadata": {},
   "outputs": [
    {
     "name": "stdout",
     "output_type": "stream",
     "text": [
      "     name  birth_date\n",
      "0     Ben    7/3/1987\n",
      "1  Martin   5/24/1984\n",
      "2    Andy   6/21/1973\n",
      "3    Paul   7/16/1980\n",
      "4  Graham  10/10/1969\n",
      "     name  birth_date\n",
      "0     Ben    7/3/1987\n",
      "1  Martin   5/24/1984\n",
      "2    Andy   6/21/1973\n",
      "3    Paul   7/16/1980\n",
      "4  Graham  10/10/1969\n",
      "5  Carina   11/5/1989\n",
      "6  Karina   10/8/1991\n",
      "7    Doug   1/23/1994\n",
      "8    Mark   5/20/1993\n",
      "9     Zoe  11/12/1990\n"
     ]
    }
   ],
   "source": [
    "print(data_persons0)\n",
    "print(persons)\n"
   ]
  },
  {
   "cell_type": "markdown",
   "id": "45b67f0a",
   "metadata": {},
   "source": [
    "### import another data file: same data set with persons=persons_all "
   ]
  },
  {
   "cell_type": "code",
   "execution_count": 16,
   "id": "55d76ec8",
   "metadata": {},
   "outputs": [
    {
     "name": "stdout",
     "output_type": "stream",
     "text": [
      "     name  friends  alcohol  neurotic\n",
      "0    Andy        0       20        14\n",
      "1  Karina       12       20        13\n",
      "2     Ben        5       10        10\n",
      "3  Martin        2       15        17\n",
      "4    Paul        4        5        13\n",
      "5  Graham        1       30        21\n",
      "6  Carina       10       25         7\n",
      "7    Doug       15       16         9\n",
      "8    Mark       12       17        14\n",
      "9     Zoe       17       18        13\n",
      "     name  birth_date  friends  alcohol  neurotic\n",
      "0     Ben    7/3/1987        5       10        10\n",
      "1  Martin   5/24/1984        2       15        17\n",
      "2    Andy   6/21/1973        0       20        14\n",
      "3    Paul   7/16/1980        4        5        13\n",
      "4  Graham  10/10/1969        1       30        21\n",
      "5  Carina   11/5/1989       10       25         7\n",
      "6  Karina   10/8/1991       12       20        13\n",
      "7    Doug   1/23/1994       15       16         9\n",
      "8    Mark   5/20/1993       12       17        14\n",
      "9     Zoe  11/12/1990       17       18        13\n"
     ]
    }
   ],
   "source": [
    "persons_social = pd.read_csv('/Users/abdulhabirkarahanli/Desktop/Data/persons_social.csv')\n",
    "print(persons_social)\n",
    "\n",
    "#merging time:\n",
    "print(pd.merge(persons, persons_social))\n"
   ]
  },
  {
   "cell_type": "markdown",
   "id": "1e284612",
   "metadata": {},
   "source": [
    "### What if the name of the variables are NOT same?? \n",
    "        \n",
    "    pd.merge() and the 'on' keywords:\n",
    "        often columns names will not match'on' keyword if the both left and right DataFrames have the spicified column name (i.e., make merging variable explicit)'left_on' and 'right_on' for datasets with different column names\n",
    "\n",
    "#### so let us define another data frame includes 'name' and 'salary'\n"
   ]
  },
  {
   "cell_type": "code",
   "execution_count": 17,
   "id": "cf0d2769",
   "metadata": {},
   "outputs": [
    {
     "name": "stdout",
     "output_type": "stream",
     "text": [
      "  employee        group\n",
      "0      Bob   Accounting\n",
      "1     Jake  Engineering\n",
      "   name  salary\n",
      "0   Bob   70000\n",
      "1  Jake   80000\n",
      "  employee        group  name  salary\n",
      "0      Bob   Accounting   Bob   70000\n",
      "1     Jake  Engineering  Jake   80000\n",
      "2     Lisa  Engineering  Lisa  120000\n",
      "3      Sue           HR   Sue   90000\n",
      "  employee        group  salary\n",
      "0      Bob   Accounting   70000\n",
      "1     Jake  Engineering   80000\n",
      "2     Lisa  Engineering  120000\n",
      "3      Sue           HR   90000\n"
     ]
    }
   ],
   "source": [
    "df6 = pd.DataFrame({'name': ['Bob', 'Jake', 'Lisa', 'Sue'],\n",
    "                    'salary': [70000, 80000, 120000, 90000]})\n",
    "print(df1.head(2)); print(df6.head(2)) # the column names are different!\n",
    "\n",
    "print(pd.merge(df1, df6, left_on=\"employee\", right_on=\"name\")) \n",
    "\n",
    "#we can drop the name column by using \\code{drop()} method\n",
    "print(pd.merge(df1, df6, left_on=\"employee\", right_on=\"name\").drop('name', axis=1))"
   ]
  },
  {
   "cell_type": "markdown",
   "id": "18a98304",
   "metadata": {},
   "source": [
    "#### What if a key values is missing in one of the datasets? The 'how' argument: \n",
    "    by default: how='inner' (intersection of two input sets)\n",
    "    outer means the other part of the input set A\n",
    "    \n",
    "### Another Example: \n"
   ]
  },
  {
   "cell_type": "code",
   "execution_count": 18,
   "id": "a3b62e25",
   "metadata": {},
   "outputs": [
    {
     "name": "stdout",
     "output_type": "stream",
     "text": [
      "    name   food\n",
      "0  Peter   fish\n",
      "1   Paul  beans\n",
      "2   Mary  bread\n",
      "     name drink\n",
      "0    Mary  wine\n",
      "1  Joseph  beer\n",
      "   name   food drink\n",
      "0  Mary  bread  wine\n"
     ]
    }
   ],
   "source": [
    "df7 = pd.DataFrame({'name': ['Peter', 'Paul', 'Mary'], 'food': ['fish', 'beans', 'bread']})\n",
    "df8 = pd.DataFrame({'name': ['Mary', 'Joseph',], 'drink': ['wine', 'beer']})\n",
    "\n",
    "print(df7) ; print(df8)\n",
    "# lets merge and see what Python will do by default:\n",
    "print(pd.merge(df7, df8))"
   ]
  },
  {
   "cell_type": "code",
   "execution_count": 19,
   "id": "134e923f",
   "metadata": {},
   "outputs": [
    {
     "name": "stdout",
     "output_type": "stream",
     "text": [
      "     name   food drink\n",
      "0   Peter   fish   NaN\n",
      "1    Paul  beans   NaN\n",
      "2    Mary  bread  wine\n",
      "3  Joseph    NaN  beer\n",
      "    name   food drink\n",
      "0  Peter   fish   NaN\n",
      "1   Paul  beans   NaN\n",
      "2   Mary  bread  wine\n",
      "     name   food drink\n",
      "0    Mary  bread  wine\n",
      "1  Joseph    NaN  beer\n"
     ]
    }
   ],
   "source": [
    "# let us use 'outer join' :\n",
    "    \n",
    "print(pd.merge(df7, df8, how='outer'))    # all data is retained, missings are NAs \n",
    "print(pd.merge(df7, df8, how='left'))    # join over left entries\n",
    "print(pd.merge(df7, df8, how='right'))   # join over right entries\n",
    "\n"
   ]
  },
  {
   "cell_type": "markdown",
   "id": "308eb27b",
   "metadata": {},
   "source": [
    "### Exersice: "
   ]
  },
  {
   "cell_type": "code",
   "execution_count": 21,
   "id": "047b193a",
   "metadata": {},
   "outputs": [
    {
     "name": "stdout",
     "output_type": "stream",
     "text": [
      "     name  birth_date\n",
      "0     Ben    7/3/1987\n",
      "1  Martin   5/24/1984\n",
      "2    Andy   6/21/1973\n",
      "3    Paul   7/16/1980\n",
      "4  Graham  10/10/1969\n",
      "5  Carina   11/5/1989\n",
      "6  Karina   10/8/1991\n",
      "7    Doug   1/23/1994\n",
      "8    Mark   5/20/1993\n",
      "9     Zoe  11/12/1990\n",
      "   person       job  income\n",
      "0     Ben  lecturer   20000\n",
      "1  Martin  lecturer   40000\n",
      "2    Andy  lecturer   35000\n",
      "3    Paul  lecturer   22000\n",
      "4  Graham  lecturer   50000\n",
      "5  Carina   student    5000\n",
      "6  Karina   student    1200\n",
      "7    Doug   student    3000\n",
      "8    Mark   student   10000\n",
      "9     Zoe   student     600\n",
      "     name birth_date\n",
      "0     Ben   7/3/1987\n",
      "1  Martin  5/24/1984\n",
      "2    Andy  6/21/1973\n",
      "   person       job  income\n",
      "0     Ben  lecturer   20000\n",
      "1  Martin  lecturer   40000\n",
      "2    Andy  lecturer   35000\n",
      "     name  birth_date  person       job  income\n",
      "0     Ben    7/3/1987     Ben  lecturer   20000\n",
      "1  Martin   5/24/1984  Martin  lecturer   40000\n",
      "2    Andy   6/21/1973    Andy  lecturer   35000\n",
      "3    Paul   7/16/1980    Paul  lecturer   22000\n",
      "4  Graham  10/10/1969  Graham  lecturer   50000\n",
      "5  Carina   11/5/1989  Carina   student    5000\n",
      "6  Karina   10/8/1991  Karina   student    1200\n",
      "7    Doug   1/23/1994    Doug   student    3000\n",
      "8    Mark   5/20/1993    Mark   student   10000\n",
      "9     Zoe  11/12/1990     Zoe   student     600\n",
      "     name  birth_date       job  income\n",
      "0     Ben    7/3/1987  lecturer   20000\n",
      "1  Martin   5/24/1984  lecturer   40000\n",
      "2    Andy   6/21/1973  lecturer   35000\n",
      "3    Paul   7/16/1980  lecturer   22000\n",
      "4  Graham  10/10/1969  lecturer   50000\n",
      "5  Carina   11/5/1989   student    5000\n",
      "6  Karina   10/8/1991   student    1200\n",
      "7    Doug   1/23/1994   student    3000\n",
      "8    Mark   5/20/1993   student   10000\n",
      "9     Zoe  11/12/1990   student     600\n"
     ]
    }
   ],
   "source": [
    "print(persons)\n",
    "\n",
    "persons_job = pd.read_csv('/Users/abdulhabirkarahanli/Desktop/Data/persons_job.csv')\n",
    "print(persons_job)\n",
    "\n",
    "print(persons.head(3)); print(persons_job.head(3))\n",
    "print(pd.merge(persons, persons_job, left_on='name', right_on='person')) #drop person column\n",
    "print(pd.merge(persons, persons_job, left_on='name', right_on='person').drop('person', axis=1))\n"
   ]
  },
  {
   "cell_type": "markdown",
   "id": "0230d0ff",
   "metadata": {},
   "source": [
    "# DONE "
   ]
  }
 ],
 "metadata": {
  "kernelspec": {
   "display_name": "Python 3",
   "language": "python",
   "name": "python3"
  },
  "language_info": {
   "codemirror_mode": {
    "name": "ipython",
    "version": 3
   },
   "file_extension": ".py",
   "mimetype": "text/x-python",
   "name": "python",
   "nbconvert_exporter": "python",
   "pygments_lexer": "ipython3",
   "version": "3.8.8"
  }
 },
 "nbformat": 4,
 "nbformat_minor": 5
}
